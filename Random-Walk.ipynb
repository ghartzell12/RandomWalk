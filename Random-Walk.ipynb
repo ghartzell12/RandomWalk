{
 "cells": [
  {
   "cell_type": "code",
   "execution_count": 59,
   "metadata": {},
   "outputs": [],
   "source": [
    "#Importing Matplotlib.pyplot and Random\n",
    "import matplotlib.pyplot as plt\n",
    "import random"
   ]
  },
  {
   "cell_type": "code",
   "execution_count": 151,
   "metadata": {},
   "outputs": [],
   "source": [
    "#Calculutes random walk by tracking list of x and y coordinates after each of 'walks' repetitions\n",
    "def random_walk(walks):\n",
    "    x = 0\n",
    "    y = 0\n",
    "    x_points = [x]\n",
    "    y_points =[y]\n",
    "    for i in range(walks):\n",
    "        x += random.randint(-2,2)\n",
    "        y += random.randint(-2,2)\n",
    "        x_points.append(x)\n",
    "        y_points.append(y)\n",
    "    return x_points,y_points\n"
   ]
  },
  {
   "cell_type": "code",
   "execution_count": 152,
   "metadata": {},
   "outputs": [],
   "source": [
    "# Calculates Distance of Final Point from (0,0)\n",
    "def calc_distance_from_original(x_points,y_points):\n",
    "    distsqd = x_points[-1] * x_points[-1] + y_points[-1]*y_points[-1]\n",
    "    dist = distsqd ** 0.5\n",
    "    return dist\n"
   ]
  },
  {
   "cell_type": "code",
   "execution_count": 156,
   "metadata": {},
   "outputs": [],
   "source": [
    "#Plots the trip\n",
    "def plot(testx,testy):\n",
    "    plt.plot(testx,testy,linestyle = 'dashed')\n",
    "    plt.grid(True)\n",
    "    plt.xticks([-4,-2,0,2,4])\n",
    "    plt.yticks([-4,-2,0,2,4])\n",
    "    plt.plot([0,testx[-1]],[0,testy[-1]], c = 'red', marker = '*')\n",
    "    plt.show()\n",
    "    key(testx,testy)"
   ]
  },
  {
   "cell_type": "code",
   "execution_count": 162,
   "metadata": {},
   "outputs": [],
   "source": [
    "# Calculates average final distance of 'reps' walks with 'steps' repititions in the random walk\n",
    "def average_dist(reps,steps):\n",
    "    sum = 0\n",
    "    for i in range(reps):\n",
    "        xa,ya = random_walk(steps)\n",
    "        dist = calc_distance_from_original(xa,ya)\n",
    "        sum += dist\n",
    "        print(\"Distance of Walk \" + str(i+1) + \": \" + str(dist))\n",
    "    print()\n",
    "    print(\"Average Distance of Walks: \" + str(1.0*sum / reps))\n",
    "        "
   ]
  },
  {
   "cell_type": "code",
   "execution_count": 163,
   "metadata": {},
   "outputs": [],
   "source": [
    "def key(testx,testy):\n",
    "    print(\"Start Point: (0,0)\")\n",
    "    print(\"End Point: (\" + str(testx[-1]) + \",\" + str(testy[-1]) + \")\")\n",
    "    print(\"Red: Path from Start to End\")\n",
    "    print(\"Blue (Dashed): Path between each walk\")"
   ]
  },
  {
   "cell_type": "code",
   "execution_count": 164,
   "metadata": {},
   "outputs": [],
   "source": [
    "def create_walk(val):\n",
    "    testx,testy = random_walk(val)\n",
    "    print(\"Final End Distance: \" + str(calc_distance_from_original(testx,testy)))\n",
    "    plot(testx,testy)"
   ]
  },
  {
   "cell_type": "code",
   "execution_count": 165,
   "metadata": {},
   "outputs": [
    {
     "name": "stdout",
     "output_type": "stream",
     "text": [
      "Final End Distance: 4.123105625617661\n"
     ]
    },
    {
     "data": {
      "image/png": "[encoded data removed]",
      "text/plain": [
       "<Figure size 432x288 with 1 Axes>"
      ]
     },
     "metadata": {
      "needs_background": "light"
     },
     "output_type": "display_data"
    },
    {
     "name": "stdout",
     "output_type": "stream",
     "text": [
      "Start Point: (0,0)\n",
      "End Point: (-4,1)\n",
      "Red: Path from Start to End\n",
      "Blue (Dashed): Path between each walk\n"
     ]
    }
   ],
   "source": [
    "create_walk(10)"
   ]
  },
  {
   "cell_type": "code",
   "execution_count": 166,
   "metadata": {},
   "outputs": [
    {
     "name": "stdout",
     "output_type": "stream",
     "text": [
      "Distance of Walk 1: 4.47213595499958\n",
      "Distance of Walk 2: 2.23606797749979\n",
      "Distance of Walk 3: 4.47213595499958\n",
      "Distance of Walk 4: 3.605551275463989\n",
      "Distance of Walk 5: 3.605551275463989\n",
      "Distance of Walk 6: 6.0\n",
      "Distance of Walk 7: 10.0\n",
      "Distance of Walk 8: 3.0\n",
      "Distance of Walk 9: 1.0\n",
      "Distance of Walk 10: 2.23606797749979\n",
      "\n",
      "Average Distance of Walks: 4.062751041592672\n"
     ]
    }
   ],
   "source": [
    "average_dist(10,10)"
   ]
  },
  {
   "cell_type": "code",
   "execution_count": null,
   "metadata": {},
   "outputs": [],
   "source": []
  }
 ],
 "metadata": {
  "kernelspec": {
   "display_name": "Python 3",
   "language": "python",
   "name": "python3"
  },
  "language_info": {
   "codemirror_mode": {
    "name": "ipython",
    "version": 3
   },
   "file_extension": ".py",
   "mimetype": "text/x-python",
   "name": "python",
   "nbconvert_exporter": "python",
   "pygments_lexer": "ipython3",
   "version": "3.7.3"
  }
 },
 "nbformat": 4,
 "nbformat_minor": 4
}
